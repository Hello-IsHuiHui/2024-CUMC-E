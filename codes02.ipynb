{
 "cells": [
  {
   "cell_type": "markdown",
   "id": "fcb53c5b",
   "metadata": {},
   "source": [
    "## 问题2    \n",
    "### 根据所给数据和上述模型，对经中路和纬中路上所有交叉口的信号灯进行优化配置，在保证车辆通行的前提下，使得两条主路上的车流平均速度最大。"
   ]
  },
  {
   "cell_type": "code",
   "execution_count": 1,
   "id": "c6c1e607",
   "metadata": {},
   "outputs": [],
   "source": [
    "# 导入相关库\n",
    "import os\n",
    "import sys\n",
    "import pandas as pd\n",
    "import numpy as np\n",
    "import matplotlib.pyplot as plt\n",
    "import seaborn as sns\n",
    "\n",
    "# 显示中文\n",
    "plt.rcParams['font.sans-serif'] = ['SimHei']\n",
    "# 设置负号正常显示\n",
    "plt.rcParams['axes.unicode_minus'] = False\n",
    "\n",
    "files = os.listdir('./问题2支撑材料')\n",
    "for file in files:\n",
    "    file_path = os.path.join('./问题2支撑材料', file)\n",
    "    if os.path.isfile(file_path):\n",
    "        os.remove(file_path)"
   ]
  }
 ],
 "metadata": {
  "kernelspec": {
   "display_name": "Mathmatical",
   "language": "python",
   "name": "python3"
  },
  "language_info": {
   "codemirror_mode": {
    "name": "ipython",
    "version": 3
   },
   "file_extension": ".py",
   "mimetype": "text/x-python",
   "name": "python",
   "nbconvert_exporter": "python",
   "pygments_lexer": "ipython3",
   "version": "3.9.21"
  }
 },
 "nbformat": 4,
 "nbformat_minor": 5
}
